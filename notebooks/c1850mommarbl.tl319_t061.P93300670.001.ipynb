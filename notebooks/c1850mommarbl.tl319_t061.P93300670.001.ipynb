{
 "cells": [
  {
   "cell_type": "code",
   "execution_count": 1,
   "id": "b82b0d1c",
   "metadata": {},
   "outputs": [],
   "source": [
    "%load_ext autoreload\n",
    "%autoreload 2"
   ]
  },
  {
   "cell_type": "code",
   "execution_count": 2,
   "id": "30d8cd5c",
   "metadata": {},
   "outputs": [],
   "source": [
    "import os\n",
    "import shutil\n",
    "from subprocess import check_call\n",
    "from glob import glob\n",
    "\n",
    "import socket\n",
    "\n",
    "import yaml\n",
    "import textwrap\n",
    "\n",
    "import cesm_tools\n",
    "\n",
    "project = 'mom6-marbl-cases'\n",
    "this_notebook = 'create-new-case.ipynb'\n",
    "\n",
    "assert 'cheyenne' in socket.gethostname(), (\n",
    "    'this notebook must be run on cheyenne login node'\n",
    ")"
   ]
  },
  {
   "cell_type": "code",
   "execution_count": 3,
   "id": "3667094a",
   "metadata": {},
   "outputs": [],
   "source": [
    "remote = 'git@github.com:mnlevy1981/cesm.git'\n",
    "\n",
    "coderoot = f\"/glade/work/{os.environ['USER']}/codes\"\n",
    "cesmtag = 'cesm2_3_beta08+mom6_marbl'\n",
    "\n",
    "cesmroot = cesm_tools.code_checkout(remote, coderoot, cesmtag)"
   ]
  },
  {
   "cell_type": "code",
   "execution_count": 4,
   "id": "944132d7",
   "metadata": {},
   "outputs": [],
   "source": [
    "USER = os.environ[\"USER\"]\n",
    "scriptroot = os.getcwd()\n",
    "\n",
    "machine = \"cheyenne\"\n",
    "if machine in [\"cheyenne\"]:\n",
    "    inputdata = \"/glade/p/cesmdata/cseg/inputdata\"\n",
    "    scratch = f\"/glade/scratch/{USER}\"\n",
    "    project_root = f'/glade/work/{USER}/{project}'\n",
    "    project_data = f'{project_root}/data'\n",
    "    caseroot_root = f'{project_root}/cases'\n",
    "else:\n",
    "    raise ValueError(f\"unknown machine: {machine}\")"
   ]
  },
  {
   "cell_type": "code",
   "execution_count": 5,
   "id": "80da24a8",
   "metadata": {},
   "outputs": [],
   "source": [
    "clobber = True\n",
    "\n",
    "project = \"P93300670\"\n",
    "\n",
    "member_id = 1\n",
    "compset = 'C1850MOMMARBL'\n",
    "resolution = \"TL319_t061\"\n",
    "\n",
    "description = \"\"\"\n",
    "my first MOM6 run\n",
    "\"\"\"\n",
    "\n",
    "case = f'{compset.lower()}.{resolution.lower()}.{project}.{member_id:03d}'\n",
    "\n",
    "# run setting\n",
    "resubmit = 0\n",
    "stop_n = 1\n",
    "stop_option = \"nmonth\"\n",
    "rest_n = 1\n",
    "rest_option = \"nyear\"\n",
    "wallclock = \"12:00:00\"\n",
    "queue = \"economy\"\n",
    "\n",
    "# paths\n",
    "caseinfo_file = f\"case-info/{case}.yml\"\n",
    "caseroot = f\"{caseroot_root}/{case}\"\n",
    "rundir = f\"{scratch}/{case}\"\n",
    "archive_root = f\"{scratch}/archive/{case}\""
   ]
  },
  {
   "cell_type": "code",
   "execution_count": 6,
   "id": "36a8c8b2",
   "metadata": {},
   "outputs": [],
   "source": [
    "# ensure root directories\n",
    "os.makedirs(os.path.dirname(caseroot_root), exist_ok=True)\n",
    "os.makedirs(os.path.dirname(caseinfo_file), exist_ok=True)\n",
    "\n",
    "if clobber:\n",
    "    check_call(['rm', '-f', caseinfo_file])\n",
    "\n",
    "if os.path.exists(caseinfo_file):\n",
    "    raise ValueError(f'case {case} exists\\nset clobber=True to remove')\n",
    "\n",
    "\n",
    "with open(caseinfo_file, \"w\") as fid:\n",
    "    yaml.dump(\n",
    "        dict(\n",
    "            case=case,\n",
    "            description=description,\n",
    "            caseroot=caseroot,\n",
    "            rundir=rundir,\n",
    "            archive_root=archive_root,\n",
    "            compset=compset,\n",
    "            resolution=resolution,\n",
    "        ),\n",
    "        fid,\n",
    "    )\n",
    "if os.path.exists(caseroot):\n",
    "    print(f\"deleting {caseroot}\")\n",
    "    check_call(['rm', '-fr', caseroot])\n",
    "    \n",
    "if os.path.exists(rundir):\n",
    "    print(f\"deleting {rundir}\")\n",
    "    check_call(['rm', '-fr', rundir])"
   ]
  },
  {
   "cell_type": "code",
   "execution_count": 7,
   "id": "6982a837",
   "metadata": {},
   "outputs": [],
   "source": [
    "check_call(\n",
    "    [\n",
    "        \"./create_newcase\",\n",
    "        \"--case\",\n",
    "        caseroot,\n",
    "        \"--project\",\n",
    "        project,\n",
    "        \"--machine\",\n",
    "        machine,\n",
    "        \"--res\",\n",
    "        resolution,\n",
    "        \"--compset\",\n",
    "        compset,\n",
    "        \"--run-unsupport\",\n",
    "    ],\n",
    "    cwd=f\"{cesmroot}/cime/scripts\",\n",
    ")"
   ]
  },
  {
   "cell_type": "code",
   "execution_count": 8,
   "id": "d081a6a4",
   "metadata": {},
   "outputs": [],
   "source": [
    "def xmlchange(arg):\n",
    "    \"\"\"call xmlchange\"\"\"\n",
    "    check_call([\"./xmlchange\", arg], cwd=caseroot)"
   ]
  },
  {
   "cell_type": "code",
   "execution_count": 9,
   "id": "95f5a605",
   "metadata": {},
   "outputs": [],
   "source": [
    "# initialization\n",
    "xmlchange(\"RUN_TYPE=startup\")\n",
    "xmlchange(\"OCN_BGC_HIST_VERT_GRID=native\")\n",
    "\n",
    "xmlchange(f\"RESUBMIT={resubmit}\")\n",
    "xmlchange(f\"STOP_OPTION={stop_option}\")\n",
    "xmlchange(f\"STOP_N={stop_n}\")\n",
    "xmlchange(f\"REST_OPTION={rest_option}\")\n",
    "xmlchange(f\"REST_N={rest_n}\")\n",
    "xmlchange(f\"JOB_WALLCLOCK_TIME={wallclock}\")\n",
    "xmlchange(f\"JOB_QUEUE={queue}\");"
   ]
  },
  {
   "cell_type": "code",
   "execution_count": 10,
   "id": "bef75c36",
   "metadata": {},
   "outputs": [],
   "source": [
    "check_call(['./case.setup'], cwd=caseroot)"
   ]
  },
  {
   "cell_type": "code",
   "execution_count": 11,
   "id": "2fa0e132",
   "metadata": {},
   "outputs": [],
   "source": [
    "src_mods_files = {\n",
    "    'mom': glob(f\"{scriptroot}/SourceMods/src.mom/*\"),\n",
    "}\n",
    "for component, files in src_mods_files.items():\n",
    "    for src in files:\n",
    "        src_basename = os.path.basename(src)\n",
    "        dst = f\"{caseroot}/SourceMods/src.{component}/{src_basename}\"\n",
    "        shutil.copyfile(src, dst)"
   ]
  },
  {
   "cell_type": "code",
   "execution_count": 12,
   "id": "85dc0872",
   "metadata": {},
   "outputs": [],
   "source": [
    "def list_to_nml_list(lst):\n",
    "    return \",\".join([f\"'{v}'\" for v in lst])\n",
    "\n",
    "user_nl = dict()\n",
    "\n",
    "for key, nl in user_nl.items():\n",
    "    with open(f\"{caseroot}/user_nl_{key}\", 'w') as fid:\n",
    "        fid.write(user_nl[key])"
   ]
  },
  {
   "cell_type": "code",
   "execution_count": 13,
   "id": "e8400054",
   "metadata": {},
   "outputs": [],
   "source": [
    "check_call(['qcmd', '-A', PROJECT, '--', './case.build'], cwd=caseroot)"
   ]
  },
  {
   "cell_type": "code",
   "execution_count": 14,
   "id": "6fb5a5eb",
   "metadata": {},
   "outputs": [],
   "source": [
    "check_call(['qcmd', '-A', project, '--', './case.build'], cwd=caseroot)"
   ]
  },
  {
   "cell_type": "code",
   "execution_count": 15,
   "id": "56e9eb7a",
   "metadata": {},
   "outputs": [],
   "source": [
    "check_call(['./preview_namelists'], cwd=caseroot)"
   ]
  },
  {
   "cell_type": "code",
   "execution_count": 16,
   "id": "4ed225f3",
   "metadata": {},
   "outputs": [],
   "source": [
    "check_call(['./case.submit'], cwd=caseroot)"
   ]
  }
 ],
 "metadata": {},
 "nbformat": 4,
 "nbformat_minor": 5
}
