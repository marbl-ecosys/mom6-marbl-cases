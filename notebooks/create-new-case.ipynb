{
 "cells": [
  {
   "cell_type": "code",
   "execution_count": 1,
   "id": "474b3aa3-2ff6-4863-a019-691c72cc515b",
   "metadata": {},
   "outputs": [],
   "source": [
    "%load_ext autoreload\n",
    "%autoreload 2"
   ]
  },
  {
   "cell_type": "code",
   "execution_count": 2,
   "id": "06e14c89-d21f-4415-ae40-4b689775debc",
   "metadata": {},
   "outputs": [],
   "source": [
    "import os\n",
    "import shutil\n",
    "from subprocess import check_call\n",
    "from glob import glob\n",
    "\n",
    "import socket\n",
    "\n",
    "import yaml\n",
    "import textwrap\n",
    "\n",
    "import cesm_tools\n",
    "\n",
    "project_name = 'mom6-marbl-cases'\n",
    "this_notebook = 'create-new-case.ipynb'\n",
    "\n",
    "assert 'cheyenne' in socket.gethostname(), (\n",
    "    'this notebook must be run on cheyenne login node'\n",
    ")"
   ]
  },
  {
   "cell_type": "markdown",
   "id": "26b9273f-0ec1-49f1-bcda-e62e38e97c94",
   "metadata": {},
   "source": [
    "## Set up local directory and machine-dependent paths"
   ]
  },
  {
   "cell_type": "code",
   "execution_count": 3,
   "id": "07611f3f-a36f-46af-ac24-6e344c6b187f",
   "metadata": {},
   "outputs": [],
   "source": [
    "USER = os.environ[\"USER\"]\n",
    "scriptroot = os.getcwd()\n",
    "\n",
    "machine = \"cheyenne\"\n",
    "if machine in [\"cheyenne\"]:\n",
    "    inputdata = \"/glade/p/cesmdata/cseg/inputdata\"\n",
    "    scratch = f\"/glade/scratch/{USER}\"\n",
    "    project_root = f'/glade/work/{USER}/{project_name}'\n",
    "    project_data = f'{project_root}/data'\n",
    "    caseroot_root = f'{project_root}/cases'\n",
    "else:\n",
    "    raise ValueError(f\"unknown machine: {machine}\")\n",
    "    \n",
    "coderoot = f\"{project_root}/codes\""
   ]
  },
  {
   "cell_type": "markdown",
   "id": "855c3d70-d52e-479b-a563-a08d4a3050dd",
   "metadata": {},
   "source": [
    "## Check out model code and configure sandbox "
   ]
  },
  {
   "cell_type": "code",
   "execution_count": 4,
   "id": "c3349b52-d306-4401-8cd7-7886f3a7afb0",
   "metadata": {},
   "outputs": [
    {
     "name": "stdout",
     "output_type": "stream",
     "text": [
      "b\"Cloning into 'cesm2_3_beta08+mom6_marbl'...\\n\"\n",
      "Branch 'cesm2_3_beta08+mom6_marbl' set up to track remote branch 'cesm2_3_beta08+mom6_marbl' from 'origin'.\n"
     ]
    },
    {
     "name": "stderr",
     "output_type": "stream",
     "text": [
      "Switched to a new branch 'cesm2_3_beta08+mom6_marbl'\n"
     ]
    },
    {
     "name": "stdout",
     "output_type": "stream",
     "text": [
      "Processing externals description file : Externals.cfg\n",
      "Checking status of externals: ccs_config, cice, cice6, cmeps, cdeps, cpl7, share, mct, parallelio, cime, fms, mom, pop, ww3, ww3dev, \n",
      "Checking out externals: \n",
      "\n",
      "e-  ./ccs_config\n",
      "        -, not checked out --> ccs_config_cesm0.0.16\n",
      "    git clone --quiet https://github.com/ESMCI/ccs_config_cesm.git ccs_config\n",
      "    git checkout --quiet ccs_config_cesm0.0.16\n",
      "\n",
      "e-  ./cime\n",
      "        -, not checked out --> cime6.0.15\n",
      "    git clone --quiet https://github.com/ESMCI/cime cime\n",
      "    git checkout --quiet cime6.0.15\n",
      "\n",
      "e-  ./components/cdeps\n",
      "        -, not checked out --> cdeps0.12.41\n",
      "    git clone --quiet https://github.com/ESCOMP/CDEPS.git cdeps\n",
      "    git checkout --quiet cdeps0.12.41\n",
      "Processing externals description file : Externals_CDEPS.cfg\n",
      "Checking out externals: \n",
      "\n",
      "--- \n",
      "        -,  --> \n",
      "    git clone --quiet https://github.com/ESMCI/fox.git fox\n",
      "    git checkout --quiet 4.1.2.1\n",
      "\n",
      "--- \n",
      "        -,  --> \n",
      "    git clone --quiet https://github.com/PARALLELIO/genf90 genf90\n",
      "    git checkout --quiet 4816965\n",
      "\n",
      "\n",
      "e-  ./components/cice\n",
      "        -, not checked out --> cice5_20210802\n",
      "    git clone --quiet https://github.com/ESCOMP/CESM_CICE5 cice\n",
      "    git checkout --quiet cice5_20210802\n",
      "\n",
      "e-  ./components/cice6\n",
      "        -, not checked out --> cesm_cice6_2_0_5\n",
      "    git clone --quiet https://github.com/ESCOMP/CESM_CICE cice6\n",
      "    git checkout --quiet cesm_cice6_2_0_5\n",
      "Processing externals description file : Externals.cfg\n",
      "Checking out externals: \n",
      "\n",
      "--- \n",
      "        -,  --> \n",
      "    git clone --quiet https://github.com/ESCOMP/CICE src\n",
      "    git checkout --quiet cice6_20210713\n",
      "    git submodule update --init --recursive\n",
      "\n",
      "\n",
      "e-  ./components/cmeps\n",
      "        -, not checked out --> cmeps0.13.47\n",
      "    git clone --quiet https://github.com/ESCOMP/CMEPS.git cmeps\n",
      "    git checkout --quiet cmeps0.13.47\n",
      "\n",
      "e-  ./components/cpl7\n",
      "        -, not checked out --> cpl7.0.12\n",
      "    git clone --quiet https://github.com/ESCOMP/CESM_CPL7andDataComps cpl7\n",
      "    git checkout --quiet cpl7.0.12\n",
      "\n",
      "e-o ./components/mom\n",
      "        -, not checked out --> MARBL_support\n",
      "    git clone --quiet git@github.com:mnlevy1981/MOM_interface mom\n",
      "    git checkout --quiet origin/MARBL_support\n",
      "Processing externals description file : Externals.cfg\n",
      "Checking out externals: \n",
      "\n",
      "--- \n",
      "        -,  --> \n",
      "    git clone --quiet git@github.com:mnlevy1981/MOM6.git MOM6\n",
      "    git checkout --quiet origin/mnlevy1981/add_MARBL\n",
      "Processing externals description file : ../Externals_MOM.cfg\n",
      "Processing submodules description file : /glade/work/mclong/mom6-marbl-cases/codes/cesm2_3_beta08+mom6_marbl/components/mom/MOM6/.gitmodules\n",
      "Checking out externals: \n",
      "\n",
      "--- \n",
      "        -,  --> \n",
      "    git clone --quiet https://github.com/CVMix/CVMix-src.git CVMix-src\n",
      "    git checkout --quiet 52aac958e05cdb2471dc73f9ef7fb4e816c550f2\n",
      "\n",
      "--- \n",
      "        -,  --> \n",
      "    git clone --quiet https://github.com/TEOS-10/GSW-Fortran.git GSW-Fortran\n",
      "    git checkout --quiet 29e64d652786e1d076a05128c920f394202bfe10\n",
      "\n",
      "--- \n",
      "        -,  --> \n",
      "    git clone --quiet https://github.com/marbl-ecosys/MARBL MARBL\n",
      "    git checkout --quiet marbl0.40.3\n",
      "\n",
      "\n",
      "\n",
      "e-  ./components/pop\n",
      "        -, not checked out --> cesm_pop_2_1_20220113\n",
      "    git clone --quiet https://github.com/ESCOMP/POP2-CESM pop\n",
      "    git checkout --quiet cesm_pop_2_1_20220113\n",
      "Processing externals description file : Externals_POP.cfg\n",
      "Checking out externals: \n",
      "\n",
      "--- \n",
      "        -,  --> \n",
      "    git clone --quiet https://github.com/CVMix/CVMix-src CVMix\n",
      "    git checkout --quiet v0.98-beta\n",
      "\n",
      "--- \n",
      "        -,  --> \n",
      "    git clone --quiet https://github.com/marbl-ecosys/MARBL MARBL\n",
      "    git checkout --quiet marbl0.40.3\n",
      "\n",
      "\n",
      "e-  ./components/ww3\n",
      "        -, not checked out --> ww3_210803\n",
      "    git clone --quiet https://github.com/ESCOMP/WW3-CESM ww3\n",
      "    git checkout --quiet ww3_210803\n",
      "\n",
      "e-o ./components/ww3dev\n",
      "        -, not checked out --> dev/unified_220202\n",
      "    git clone --quiet https://github.com/ESCOMP/WW3-CESM ww3dev\n",
      "    git checkout --quiet dev/unified_220202\n",
      "\n",
      "e-o ./libraries/FMS\n",
      "        -, not checked out --> fi_20210708b\n",
      "    git clone --quiet https://github.com/ESCOMP/FMS_interface FMS\n",
      "    git checkout --quiet fi_20210708b\n",
      "Processing externals description file : Externals_FMS.cfg\n",
      "Checking out externals: \n",
      "\n",
      "--- \n",
      "        -,  --> \n",
      "    git clone --quiet https://github.com/NOAA-GFDL/FMS src\n",
      "    git checkout --quiet 2020.04.03\n",
      "\n",
      "\n",
      "e-  ./libraries/mct\n",
      "        -, not checked out --> MCT_2.11.0\n",
      "    git clone --quiet https://github.com/MCSclimate/MCT mct\n",
      "    git checkout --quiet MCT_2.11.0\n",
      "\n",
      "e-  ./libraries/parallelio\n",
      "        -, not checked out --> pio2_5_6\n",
      "    git clone --quiet https://github.com/NCAR/ParallelIO parallelio\n",
      "    git checkout --quiet pio2_5_6\n",
      "\n",
      "e-  ./share\n",
      "        -, not checked out --> share1.0.10\n",
      "    git clone --quiet https://github.com/ESCOMP/CESM_share share\n",
      "    git checkout --quiet share1.0.10\n",
      "\n",
      "\n"
     ]
    }
   ],
   "source": [
    "remote = 'git@github.com:mnlevy1981/cesm.git'\n",
    "cesmtag = 'cesm2_3_beta08+mom6_marbl'\n",
    "\n",
    "cesmroot = cesm_tools.code_checkout(remote, coderoot, cesmtag)"
   ]
  },
  {
   "cell_type": "markdown",
   "id": "b7ade7d8-439f-471d-9ed5-eb604da95c0b",
   "metadata": {},
   "source": [
    "## Setup case options\n",
    "\n",
    "Information on compsets is [here](https://www.cesm.ucar.edu/models/cesm2/config/2.1.3/compsets.html)."
   ]
  },
  {
   "cell_type": "code",
   "execution_count": 5,
   "id": "16ce1a6c-d61b-4062-ae18-00745256931a",
   "metadata": {},
   "outputs": [],
   "source": [
    "clobber = True\n",
    "\n",
    "project = \"P93300670\"\n",
    "\n",
    "member_id = 1\n",
    "compset = 'C1850MOMMARBL'\n",
    "resolution = \"TL319_t061\"\n",
    "\n",
    "description = \"\"\"\n",
    "my first MOM6 run\n",
    "\"\"\"\n",
    "\n",
    "case = f'{compset}.{resolution}.{member_id:03d}'\n",
    "\n",
    "# run setting\n",
    "resubmit = 0\n",
    "stop_n = 1\n",
    "stop_option = \"nmonth\"\n",
    "rest_n = 1\n",
    "rest_option = \"nyear\"\n",
    "wallclock = \"12:00:00\"\n",
    "queue = \"regular\"\n",
    "\n",
    "# paths\n",
    "caseinfo_file = f\"case-info/{case}.yml\"\n",
    "caseroot = f\"{caseroot_root}/{case}\"\n",
    "rundir = f\"{scratch}/{case}\"\n",
    "archive_root = f\"{scratch}/archive/{case}\""
   ]
  },
  {
   "cell_type": "markdown",
   "id": "1cbf577a-d28b-46ec-bf33-f917fcbe6c4e",
   "metadata": {},
   "source": [
    "## Create case\n",
    "\n",
    "### Determine if existing case exists, remove if `clobber=True`."
   ]
  },
  {
   "cell_type": "code",
   "execution_count": 6,
   "id": "78f95807-7fe1-4a19-b122-556c6b9b9fe7",
   "metadata": {},
   "outputs": [],
   "source": [
    "# ensure root directories\n",
    "os.makedirs(os.path.dirname(caseroot_root), exist_ok=True)\n",
    "os.makedirs(os.path.dirname(caseinfo_file), exist_ok=True)\n",
    "\n",
    "if clobber:\n",
    "    check_call(['rm', '-f', caseinfo_file])\n",
    "\n",
    "if os.path.exists(caseinfo_file):\n",
    "    raise ValueError(f'case {case} exists\\nset clobber=True to remove')\n",
    "\n",
    "\n",
    "with open(caseinfo_file, \"w\") as fid:\n",
    "    yaml.dump(\n",
    "        dict(\n",
    "            case=case,\n",
    "            description=description,\n",
    "            caseroot=caseroot,\n",
    "            rundir=rundir,\n",
    "            archive_root=archive_root,\n",
    "            compset=compset,\n",
    "            resolution=resolution,\n",
    "        ),\n",
    "        fid,\n",
    "    )\n",
    "if os.path.exists(caseroot):\n",
    "    print(f\"deleting {caseroot}\")\n",
    "    check_call(['rm', '-fr', caseroot])\n",
    "    \n",
    "if os.path.exists(rundir):\n",
    "    print(f\"deleting {rundir}\")\n",
    "    check_call(['rm', '-fr', rundir])"
   ]
  },
  {
   "cell_type": "code",
   "execution_count": 7,
   "id": "4c1d1b10-000b-4994-b555-6245954bb01d",
   "metadata": {},
   "outputs": [
    {
     "name": "stdout",
     "output_type": "stream",
     "text": [
      "Compset longname is 1850_DATM%NYF_SLND_DICE%SSMI_MOM6%MARBL_DROF%NYF_SGLC_SWAV\n",
      "Compset specification file is /glade/work/mclong/mom6-marbl-cases/codes/cesm2_3_beta08+mom6_marbl/components/mom//cime_config/config_compsets.xml\n",
      "Automatically adding SESP to compset\n",
      "Compset forcing is 1850\n",
      "ATM component is  Data driven ATM COREv2 normal year forcing\n",
      "LND component is Stub land component\n",
      "ICE component is dice mode is ssmi\n",
      "OCN component is MOM6 OCEAN MARBL Biogeochemistry Tracer Library\n",
      "ROF component is Data runoff modelCOREv2 normal year forcing:\n",
      "GLC component is Stub glacier (land ice) component\n",
      "WAV component is Stub wave component\n",
      "ESP component is Stub external system processing (ESP) component\n",
      "Pes     specification file is /glade/work/mclong/mom6-marbl-cases/codes/cesm2_3_beta08+mom6_marbl/components/mom//cime_config/config_pes.xml\n",
      "Machine is cheyenne\n",
      "Pes setting: grid match    is a%TL319.+oi%tx0.66v1 \n",
      "Pes setting: machine match is cheyenne \n",
      "Pes setting: compset_match is _DATM.+_DICE.*_MOM6%MARBL.+_SWAV \n",
      "Pes setting: grid          is a%TL319_l%null_oi%tx0.66v1_r%JRA025_g%null_w%null_z%null_m%tx0.66v1 \n",
      "Pes setting: compset       is 1850_DATM%NYF_SLND_DICE%SSMI_MOM6%MARBL_DROF%NYF_SGLC_SWAV_SESP \n",
      "Pes setting: tasks       is {'NTASKS_ATM': 36, 'NTASKS_ROF': 36, 'NTASKS_CPL': 36, 'NTASKS_ICE': 36, 'NTASKS_OCN': 2844, 'NTASKS_LND': 1, 'NTASKS_WAV': 1, 'NTASKS_GLC': 1} \n",
      "Pes setting: threads     is {'NTHRDS_ATM': 1, 'NTHRDS_LND': 1, 'NTHRDS_ROF': 1, 'NTHRDS_ICE': 1, 'NTHRDS_OCN': 1, 'NTHRDS_GLC': 1, 'NTHRDS_WAV': 1, 'NTHRDS_CPL': 1} \n",
      "Pes setting: rootpe      is {'ROOTPE_ATM': 0, 'ROOTPE_ROF': 0, 'ROOTPE_CPL': 0, 'ROOTPE_ICE': 0, 'ROOTPE_OCN': 36, 'ROOTPE_LND': 0, 'ROOTPE_WAV': 0, 'ROOTPE_GLC': 0} \n",
      "Pes setting: pstrid      is {} \n",
      "Pes other settings: {}\n",
      "Pes comments: none\n",
      "setting additional fields from config_pes: {}\n"
     ]
    },
    {
     "name": "stderr",
     "output_type": "stream",
     "text": [
      "Variable MAX_GPUS_PER_NODE not defined for machine cheyenne\n"
     ]
    },
    {
     "name": "stdout",
     "output_type": "stream",
     "text": [
      " Compset is: 1850_DATM%NYF_SLND_DICE%SSMI_MOM6%MARBL_DROF%NYF_SGLC_SWAV_SESP \n",
      " Grid is: a%TL319_l%null_oi%tx0.66v1_r%JRA025_g%null_w%null_z%null_m%tx0.66v1 \n",
      " Components in compset are: ['datm', 'slnd', 'dice', 'mom', 'drof', 'sglc', 'swav', 'sesp'] \n",
      "No charge_account info available, using value from PROJECT\n",
      "cesm model version found: cesm2_3_alpha07b-34-g1b0fff8\n",
      "Batch_system_type is pbs\n",
      "job is case.run USER_REQUESTED_WALLTIME None USER_REQUESTED_QUEUE None WALLTIME_FORMAT %H:%M:%S\n",
      "job is case.st_archive USER_REQUESTED_WALLTIME None USER_REQUESTED_QUEUE None WALLTIME_FORMAT %H:%M:%S\n",
      " Creating Case directory /glade/work/mclong/mom6-marbl-cases/cases/C1850MOMMARBL.TL319_t061.001\n"
     ]
    },
    {
     "data": {
      "text/plain": [
       "0"
      ]
     },
     "execution_count": 7,
     "metadata": {},
     "output_type": "execute_result"
    }
   ],
   "source": [
    "check_call(\n",
    "    [\n",
    "        \"./create_newcase\",\n",
    "        \"--case\",\n",
    "        caseroot,\n",
    "        \"--project\",\n",
    "        project,\n",
    "        \"--machine\",\n",
    "        machine,\n",
    "        \"--res\",\n",
    "        resolution,\n",
    "        \"--compset\",\n",
    "        compset,\n",
    "        \"--run-unsupport\",\n",
    "    ],\n",
    "    cwd=f\"{cesmroot}/cime/scripts\",\n",
    ")"
   ]
  },
  {
   "cell_type": "markdown",
   "id": "be6c54e4-d019-4cfb-bfa9-bca632e31e2b",
   "metadata": {},
   "source": [
    "## Configure case"
   ]
  },
  {
   "cell_type": "markdown",
   "id": "51475f13-8a20-4cda-8d26-08e2a851543e",
   "metadata": {},
   "source": [
    "### Apply XML settings\n",
    "\n",
    "Documentation is provided [here](https://www.cesm.ucar.edu/models/cesm2/settings/2.1.3/)."
   ]
  },
  {
   "cell_type": "code",
   "execution_count": 8,
   "id": "59f0f4f8-1485-4b57-b5e7-d2379f155c82",
   "metadata": {},
   "outputs": [],
   "source": [
    "def xmlchange(arg):\n",
    "    \"\"\"call xmlchange\"\"\"\n",
    "    check_call([\"./xmlchange\", arg], cwd=caseroot)"
   ]
  },
  {
   "cell_type": "code",
   "execution_count": 9,
   "id": "00739ce5-cb6f-41b0-867b-21cbbba9d92a",
   "metadata": {},
   "outputs": [],
   "source": [
    "# initialization\n",
    "xmlchange(\"RUN_TYPE=startup\")\n",
    "xmlchange(\"OCN_BGC_HIST_VERT_GRID=native\")\n",
    "\n",
    "xmlchange(f\"RESUBMIT={resubmit}\")\n",
    "xmlchange(f\"STOP_OPTION={stop_option}\")\n",
    "xmlchange(f\"STOP_N={stop_n}\")\n",
    "xmlchange(f\"REST_OPTION={rest_option}\")\n",
    "xmlchange(f\"REST_N={rest_n}\")\n",
    "xmlchange(f\"JOB_WALLCLOCK_TIME={wallclock}\")\n",
    "xmlchange(f\"JOB_QUEUE={queue}\");"
   ]
  },
  {
   "cell_type": "markdown",
   "id": "d88be872-f3ed-44f6-8357-b5faac40ea37",
   "metadata": {},
   "source": [
    "## Run setup"
   ]
  },
  {
   "cell_type": "code",
   "execution_count": 10,
   "id": "13b944bc-cb0f-4c0f-a1d7-1517d0c10928",
   "metadata": {},
   "outputs": [
    {
     "name": "stdout",
     "output_type": "stream",
     "text": [
      "Setting resource.RLIMIT_STACK to -1 from (307200000, -1)\n",
      "job is case.run USER_REQUESTED_WALLTIME 12:00:00 USER_REQUESTED_QUEUE regular WALLTIME_FORMAT %H:%M:%S\n",
      "Creating batch scripts\n",
      "Writing case.run script from input template /glade/work/mclong/mom6-marbl-cases/codes/cesm2_3_beta08+mom6_marbl/ccs_config/machines/template.case.run\n",
      "Creating file .case.run\n",
      "Writing case.st_archive script from input template /glade/work/mclong/mom6-marbl-cases/codes/cesm2_3_beta08+mom6_marbl/ccs_config/machines/template.st_archive\n",
      "Creating file case.st_archive\n",
      "Creating user_nl_xxx files for components and cpl\n",
      "If an old case build already exists, might want to run 'case.build --clean' before building\n",
      "You can now run './preview_run' to get more info on how your case will be run\n"
     ]
    },
    {
     "data": {
      "text/plain": [
       "0"
      ]
     },
     "execution_count": 10,
     "metadata": {},
     "output_type": "execute_result"
    }
   ],
   "source": [
    "check_call(['./case.setup'], cwd=caseroot)"
   ]
  },
  {
   "cell_type": "markdown",
   "id": "db0e25da-5686-43ee-90d5-1d60eb482ebd",
   "metadata": {},
   "source": [
    "## SourceMods\n",
    "\n",
    "Copy source mods to `CASEROOT`"
   ]
  },
  {
   "cell_type": "code",
   "execution_count": 11,
   "id": "fb67d187-c475-4637-948b-fe581b36cb5f",
   "metadata": {},
   "outputs": [],
   "source": [
    "src_mods_files = {\n",
    "    'mom': glob(f\"{scriptroot}/SourceMods/src.mom/*\"),\n",
    "}\n",
    "for component, files in src_mods_files.items():\n",
    "    for src in files:\n",
    "        src_basename = os.path.basename(src)\n",
    "        dst = f\"{caseroot}/SourceMods/src.{component}/{src_basename}\"\n",
    "        shutil.copyfile(src, dst)"
   ]
  },
  {
   "cell_type": "markdown",
   "id": "6a46dc16-3817-40f7-8134-309b8b9563fc",
   "metadata": {},
   "source": [
    "## Namelist settings"
   ]
  },
  {
   "cell_type": "markdown",
   "id": "cd843fde-ef90-4636-aff7-74ee8a38c4fe",
   "metadata": {},
   "source": [
    "### Write namelist modifcations\n",
    "\n",
    "Documentation for the POP namelist is [here](https://www.cesm.ucar.edu/models/cesm2/settings/2.1.3/pop2_nml.html)."
   ]
  },
  {
   "cell_type": "code",
   "execution_count": 12,
   "id": "0eecd3c5-ff7e-49b4-b382-5211400c5326",
   "metadata": {},
   "outputs": [],
   "source": [
    "def list_to_nml_list(lst):\n",
    "    return \",\".join([f\"'{v}'\" for v in lst])\n",
    "\n",
    "user_nl = dict()\n",
    "\n",
    "for key, nl in user_nl.items():\n",
    "    with open(f\"{caseroot}/user_nl_{key}\", 'w') as fid:\n",
    "        fid.write(user_nl[key])"
   ]
  },
  {
   "cell_type": "markdown",
   "id": "7f8055d8-b562-4501-9b42-87de3a9dd013",
   "metadata": {},
   "source": [
    "## Build the model"
   ]
  },
  {
   "cell_type": "code",
   "execution_count": 13,
   "id": "95b5b0ed-e286-4d47-aa17-d2b052ee3814",
   "metadata": {
    "tags": []
   },
   "outputs": [
    {
     "name": "stdout",
     "output_type": "stream",
     "text": [
      "Submitting command to PBS using account P93300670:\n",
      "    ./case.build\n",
      "\n",
      "Requested custom PBS options:\n",
      "    -A P93300670 \n",
      "\n",
      "Waiting for job 6302902.chadmin1.ib0.cheyenne.ucar.edu to start ... \n",
      "\n",
      "\n",
      "Building case in directory /glade/work/mclong/mom6-marbl-cases/cases/C1850MOMMARBL.TL319_t061.001\n",
      "sharedlib_only is False\n",
      "model_only is False\n",
      "Setting resource.RLIMIT_STACK to -1 from (-1, -1)\n",
      "Generating component namelists as part of build\n",
      "  2022-09-09 09:03:36 atm \n",
      "Create namelist for component datm\n",
      "   Calling /glade/work/mclong/mom6-marbl-cases/codes/cesm2_3_beta08+mom6_marbl/components/cdeps/datm/cime_config/buildnml\n",
      "  2022-09-09 09:03:36 lnd \n",
      "Create namelist for component slnd\n",
      "   Calling /glade/work/mclong/mom6-marbl-cases/codes/cesm2_3_beta08+mom6_marbl/cime/src/components/stub_comps_nuopc/slnd/cime_config/buildnml\n",
      "  2022-09-09 09:03:36 ice \n",
      "Create namelist for component dice\n",
      "   Calling /glade/work/mclong/mom6-marbl-cases/codes/cesm2_3_beta08+mom6_marbl/components/cdeps/dice/cime_config/buildnml\n",
      "  2022-09-09 09:03:36 ocn \n",
      "Create namelist for component mom\n",
      "   Calling /glade/work/mclong/mom6-marbl-cases/codes/cesm2_3_beta08+mom6_marbl/components/mom//cime_config/buildnml\n",
      "  2022-09-09 09:03:37 rof \n",
      "Create namelist for component drof\n",
      "   Calling /glade/work/mclong/mom6-marbl-cases/codes/cesm2_3_beta08+mom6_marbl/components/cdeps/drof/cime_config/buildnml\n",
      "  2022-09-09 09:03:37 glc \n",
      "Create namelist for component sglc\n",
      "   Calling /glade/work/mclong/mom6-marbl-cases/codes/cesm2_3_beta08+mom6_marbl/cime/src/components/stub_comps_nuopc/sglc/cime_config/buildnml\n",
      "  2022-09-09 09:03:37 wav \n",
      "Create namelist for component swav\n",
      "   Calling /glade/work/mclong/mom6-marbl-cases/codes/cesm2_3_beta08+mom6_marbl/cime/src/components/stub_comps_nuopc/swav/cime_config/buildnml\n",
      "  2022-09-09 09:03:37 esp \n",
      "Create namelist for component sesp\n",
      "   Calling /glade/work/mclong/mom6-marbl-cases/codes/cesm2_3_beta08+mom6_marbl/cime/src/components/stub_comps_nuopc/sesp/cime_config/buildnml\n",
      "  2022-09-09 09:03:37 cpl \n",
      "Create namelist for component drv\n",
      "   Calling /glade/work/mclong/mom6-marbl-cases/codes/cesm2_3_beta08+mom6_marbl/components/cmeps/cime_config/buildnml\n",
      "Writing nuopc_runconfig for components ['CPL', 'ATM', 'ICE', 'OCN', 'ROF']\n",
      "Building gptl with output to file /glade/scratch/mclong/C1850MOMMARBL.TL319_t061.001/bld/gptl.bldlog.220909-090334\n",
      "   Calling /glade/work/mclong/mom6-marbl-cases/codes/cesm2_3_beta08+mom6_marbl/cime/src/build_scripts/buildlib.gptl\n",
      "Building mct with output to file /glade/scratch/mclong/C1850MOMMARBL.TL319_t061.001/bld/mct.bldlog.220909-090334\n",
      "   Calling /glade/work/mclong/mom6-marbl-cases/codes/cesm2_3_beta08+mom6_marbl/cime/src/build_scripts/buildlib.mct\n",
      "Component mct build complete with 110 warnings\n",
      "Building pio with output to file /glade/scratch/mclong/C1850MOMMARBL.TL319_t061.001/bld/pio.bldlog.220909-090334\n",
      "   Calling /glade/work/mclong/mom6-marbl-cases/codes/cesm2_3_beta08+mom6_marbl/cime/src/build_scripts/buildlib.pio\n",
      "Building csm_share with output to file /glade/scratch/mclong/C1850MOMMARBL.TL319_t061.001/bld/csm_share.bldlog.220909-090334\n",
      "   Calling /glade/work/mclong/mom6-marbl-cases/codes/cesm2_3_beta08+mom6_marbl/share/buildlib.csm_share\n",
      "Component csm_share build complete with 14 warnings\n",
      "Building CDEPS with output to file /glade/scratch/mclong/C1850MOMMARBL.TL319_t061.001/bld/CDEPS.bldlog.220909-090334\n",
      "   Calling /glade/work/mclong/mom6-marbl-cases/codes/cesm2_3_beta08+mom6_marbl/components/cdeps/cime_config/buildlib\n",
      "Building FMS with output to file /glade/scratch/mclong/C1850MOMMARBL.TL319_t061.001/bld/FMS.bldlog.220909-090334\n",
      "   Calling /glade/work/mclong/mom6-marbl-cases/codes/cesm2_3_beta08+mom6_marbl/libraries/FMS/buildlib\n",
      "Component FMS build complete with 89 warnings\n",
      "         - Building atm Library \n",
      "Building atm with output to /glade/scratch/mclong/C1850MOMMARBL.TL319_t061.001/bld/atm.bldlog.220909-090334\n",
      "         - Building ice Library \n",
      "Building ice with output to /glade/scratch/mclong/C1850MOMMARBL.TL319_t061.001/bld/ice.bldlog.220909-090334\n",
      "         - Building ocn Library \n",
      "Building ocn with output to /glade/scratch/mclong/C1850MOMMARBL.TL319_t061.001/bld/ocn.bldlog.220909-090334\n",
      "         - Building rof Library \n",
      "Building rof with output to /glade/scratch/mclong/C1850MOMMARBL.TL319_t061.001/bld/rof.bldlog.220909-090334\n",
      "datm built in 1.585027 seconds\n",
      "dice built in 1.585481 seconds\n",
      "drof built in 1.596885 seconds\n",
      "Component ocn build complete with 120 warnings\n",
      "mom built in 449.385321 seconds\n",
      "Building cesm from /glade/work/mclong/mom6-marbl-cases/codes/cesm2_3_beta08+mom6_marbl/components/cmeps/cime_config/buildexe with output to /glade/scratch/mclong/C1850MOMMARBL.TL319_t061.001/bld/cesm.bldlog.220909-090334 \n",
      "Total build time: 1047.975389 seconds\n",
      "MODEL BUILD HAS FINISHED SUCCESSFULLY\n"
     ]
    },
    {
     "data": {
      "text/plain": [
       "0"
      ]
     },
     "execution_count": 13,
     "metadata": {},
     "output_type": "execute_result"
    }
   ],
   "source": [
    "check_call(['qcmd', '-A', project, '--', './case.build'], cwd=caseroot)"
   ]
  },
  {
   "cell_type": "markdown",
   "id": "5f4a85ff-d6c2-407d-a790-b35440de06f3",
   "metadata": {},
   "source": [
    "## Preview namelists"
   ]
  },
  {
   "cell_type": "code",
   "execution_count": 14,
   "id": "d39d7b8c-0ac4-405f-b600-256a45c44d6b",
   "metadata": {},
   "outputs": [
    {
     "name": "stdout",
     "output_type": "stream",
     "text": [
      "Setting resource.RLIMIT_STACK to -1 from (307200000, -1)\n",
      "  2022-09-09 09:21:20 atm \n",
      "Create namelist for component datm\n",
      "   Calling /glade/work/mclong/mom6-marbl-cases/codes/cesm2_3_beta08+mom6_marbl/components/cdeps/datm/cime_config/buildnml\n",
      "  2022-09-09 09:21:20 lnd \n",
      "Create namelist for component slnd\n",
      "   Calling /glade/work/mclong/mom6-marbl-cases/codes/cesm2_3_beta08+mom6_marbl/cime/src/components/stub_comps_nuopc/slnd/cime_config/buildnml\n",
      "  2022-09-09 09:21:20 ice \n",
      "Create namelist for component dice\n",
      "   Calling /glade/work/mclong/mom6-marbl-cases/codes/cesm2_3_beta08+mom6_marbl/components/cdeps/dice/cime_config/buildnml\n",
      "  2022-09-09 09:21:20 ocn \n",
      "Create namelist for component mom\n",
      "   Calling /glade/work/mclong/mom6-marbl-cases/codes/cesm2_3_beta08+mom6_marbl/components/mom//cime_config/buildnml\n",
      "  2022-09-09 09:21:21 rof \n",
      "Create namelist for component drof\n",
      "   Calling /glade/work/mclong/mom6-marbl-cases/codes/cesm2_3_beta08+mom6_marbl/components/cdeps/drof/cime_config/buildnml\n",
      "  2022-09-09 09:21:21 glc \n",
      "Create namelist for component sglc\n",
      "   Calling /glade/work/mclong/mom6-marbl-cases/codes/cesm2_3_beta08+mom6_marbl/cime/src/components/stub_comps_nuopc/sglc/cime_config/buildnml\n",
      "  2022-09-09 09:21:21 wav \n",
      "Create namelist for component swav\n",
      "   Calling /glade/work/mclong/mom6-marbl-cases/codes/cesm2_3_beta08+mom6_marbl/cime/src/components/stub_comps_nuopc/swav/cime_config/buildnml\n",
      "  2022-09-09 09:21:21 esp \n",
      "Create namelist for component sesp\n",
      "   Calling /glade/work/mclong/mom6-marbl-cases/codes/cesm2_3_beta08+mom6_marbl/cime/src/components/stub_comps_nuopc/sesp/cime_config/buildnml\n",
      "  2022-09-09 09:21:21 cpl \n",
      "Create namelist for component drv\n",
      "   Calling /glade/work/mclong/mom6-marbl-cases/codes/cesm2_3_beta08+mom6_marbl/components/cmeps/cime_config/buildnml\n",
      "Writing nuopc_runconfig for components ['CPL', 'ATM', 'ICE', 'OCN', 'ROF']\n"
     ]
    },
    {
     "data": {
      "text/plain": [
       "0"
      ]
     },
     "execution_count": 14,
     "metadata": {},
     "output_type": "execute_result"
    }
   ],
   "source": [
    "check_call(['./preview_namelists'], cwd=caseroot)"
   ]
  },
  {
   "cell_type": "markdown",
   "id": "f51e148a-7902-41cb-a0ea-888027e0ecf2",
   "metadata": {},
   "source": [
    "## Submit the job"
   ]
  },
  {
   "cell_type": "code",
   "execution_count": 15,
   "id": "87e9a60a-65a6-43c5-9ae6-9ace2b97a206",
   "metadata": {},
   "outputs": [
    {
     "name": "stderr",
     "output_type": "stream",
     "text": [
      "\n",
      "env_batch.xml appears to have changed, regenerating batch scripts\n",
      "manual edits to these file will be lost!\n",
      "\n"
     ]
    },
    {
     "name": "stdout",
     "output_type": "stream",
     "text": [
      "Creating batch scripts\n",
      "Writing case.run script from input template /glade/work/mclong/mom6-marbl-cases/codes/cesm2_3_beta08+mom6_marbl/ccs_config/machines/template.case.run\n",
      "Creating file .case.run\n",
      "Writing case.st_archive script from input template /glade/work/mclong/mom6-marbl-cases/codes/cesm2_3_beta08+mom6_marbl/ccs_config/machines/template.st_archive\n",
      "Creating file case.st_archive\n",
      "Setting resource.RLIMIT_STACK to -1 from (307200000, -1)\n",
      "  2022-09-09 09:21:23 atm \n",
      "Create namelist for component datm\n",
      "   Calling /glade/work/mclong/mom6-marbl-cases/codes/cesm2_3_beta08+mom6_marbl/components/cdeps/datm/cime_config/buildnml\n",
      "  2022-09-09 09:21:23 lnd \n",
      "Create namelist for component slnd\n",
      "   Calling /glade/work/mclong/mom6-marbl-cases/codes/cesm2_3_beta08+mom6_marbl/cime/src/components/stub_comps_nuopc/slnd/cime_config/buildnml\n",
      "  2022-09-09 09:21:23 ice \n",
      "Create namelist for component dice\n",
      "   Calling /glade/work/mclong/mom6-marbl-cases/codes/cesm2_3_beta08+mom6_marbl/components/cdeps/dice/cime_config/buildnml\n",
      "  2022-09-09 09:21:23 ocn \n",
      "Create namelist for component mom\n",
      "   Calling /glade/work/mclong/mom6-marbl-cases/codes/cesm2_3_beta08+mom6_marbl/components/mom//cime_config/buildnml\n",
      "  2022-09-09 09:21:24 rof \n",
      "Create namelist for component drof\n",
      "   Calling /glade/work/mclong/mom6-marbl-cases/codes/cesm2_3_beta08+mom6_marbl/components/cdeps/drof/cime_config/buildnml\n",
      "  2022-09-09 09:21:24 glc \n",
      "Create namelist for component sglc\n",
      "   Calling /glade/work/mclong/mom6-marbl-cases/codes/cesm2_3_beta08+mom6_marbl/cime/src/components/stub_comps_nuopc/sglc/cime_config/buildnml\n",
      "  2022-09-09 09:21:24 wav \n",
      "Create namelist for component swav\n",
      "   Calling /glade/work/mclong/mom6-marbl-cases/codes/cesm2_3_beta08+mom6_marbl/cime/src/components/stub_comps_nuopc/swav/cime_config/buildnml\n",
      "  2022-09-09 09:21:24 esp \n",
      "Create namelist for component sesp\n",
      "   Calling /glade/work/mclong/mom6-marbl-cases/codes/cesm2_3_beta08+mom6_marbl/cime/src/components/stub_comps_nuopc/sesp/cime_config/buildnml\n",
      "  2022-09-09 09:21:24 cpl \n",
      "Create namelist for component drv\n",
      "   Calling /glade/work/mclong/mom6-marbl-cases/codes/cesm2_3_beta08+mom6_marbl/components/cmeps/cime_config/buildnml\n",
      "Writing nuopc_runconfig for components ['CPL', 'ATM', 'ICE', 'OCN', 'ROF']\n",
      "Checking that inputdata is available as part of case submission\n",
      "Setting resource.RLIMIT_STACK to -1 from (-1, -1)\n",
      "Loading input file list: 'Buildconf/cpl.input_data_list'\n",
      "Loading input file list: 'Buildconf/mom.input_data_list'\n",
      "Loading input file list: 'Buildconf/datm.input_data_list'\n",
      "Loading input file list: 'Buildconf/drof.input_data_list'\n",
      "Loading input file list: 'Buildconf/dice.input_data_list'\n",
      "Check case OK\n",
      "Submitting job script qsub -q regular -l walltime=12:00:00 -A P93300670 -m ea -v ARGS_FOR_SCRIPT='--resubmit' .case.run\n"
     ]
    },
    {
     "name": "stderr",
     "output_type": "stream",
     "text": [
      "submit_jobs case.run\n",
      "Submit job case.run\n"
     ]
    },
    {
     "name": "stdout",
     "output_type": "stream",
     "text": [
      "Submitted job id is 6302957.chadmin1.ib0.cheyenne.ucar.edu\n",
      "Submitting job script qsub -q regular -l walltime=12:00:00 -A P93300670  -W depend=afterok:6302957.chadmin1.ib0.cheyenne.ucar.edu -m ea -v ARGS_FOR_SCRIPT='--resubmit' case.st_archive\n",
      "Submitted job id is 6302958.chadmin1.ib0.cheyenne.ucar.edu\n",
      "Submitted job case.run with id 6302957.chadmin1.ib0.cheyenne.ucar.edu\n",
      "Submitted job case.st_archive with id 6302958.chadmin1.ib0.cheyenne.ucar.edu\n"
     ]
    },
    {
     "name": "stderr",
     "output_type": "stream",
     "text": [
      "Submit job case.st_archive\n"
     ]
    },
    {
     "data": {
      "text/plain": [
       "0"
      ]
     },
     "execution_count": 15,
     "metadata": {},
     "output_type": "execute_result"
    }
   ],
   "source": [
    "check_call(['./case.submit'], cwd=caseroot)"
   ]
  },
  {
   "cell_type": "markdown",
   "id": "8cbdab1e-9bf5-4528-afe5-b8b103c09055",
   "metadata": {},
   "source": [
    "### Copy this notebook to create record of case creation"
   ]
  },
  {
   "cell_type": "code",
   "execution_count": 16,
   "id": "daf37687-9ec9-4b1d-948e-49c0f688d0ce",
   "metadata": {},
   "outputs": [],
   "source": [
    "%notebook -e {case}.ipynb"
   ]
  },
  {
   "cell_type": "code",
   "execution_count": null,
   "id": "1d32d455-c556-42a9-b431-b67685f53024",
   "metadata": {},
   "outputs": [],
   "source": []
  }
 ],
 "metadata": {
  "kernelspec": {
   "display_name": "Python [conda env:miniconda3-cmip6-cplhist]",
   "language": "python",
   "name": "conda-env-miniconda3-cmip6-cplhist-py"
  },
  "language_info": {
   "codemirror_mode": {
    "name": "ipython",
    "version": 3
   },
   "file_extension": ".py",
   "mimetype": "text/x-python",
   "name": "python",
   "nbconvert_exporter": "python",
   "pygments_lexer": "ipython3",
   "version": "3.7.13"
  }
 },
 "nbformat": 4,
 "nbformat_minor": 5
}
